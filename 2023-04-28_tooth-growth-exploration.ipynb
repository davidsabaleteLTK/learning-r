{
 "cells": [
  {
   "cell_type": "code",
   "execution_count": 4,
   "id": "81f4ce50",
   "metadata": {},
   "outputs": [
    {
     "data": {
      "text/html": [
       "<table class=\"dataframe\">\n",
       "<caption>A data.frame: 6 × 3</caption>\n",
       "<thead>\n",
       "\t<tr><th></th><th scope=col>len</th><th scope=col>supp</th><th scope=col>dose</th></tr>\n",
       "\t<tr><th></th><th scope=col>&lt;dbl&gt;</th><th scope=col>&lt;fct&gt;</th><th scope=col>&lt;dbl&gt;</th></tr>\n",
       "</thead>\n",
       "<tbody>\n",
       "\t<tr><th scope=row>1</th><td> 4.2</td><td>VC</td><td>0.5</td></tr>\n",
       "\t<tr><th scope=row>2</th><td>11.5</td><td>VC</td><td>0.5</td></tr>\n",
       "\t<tr><th scope=row>3</th><td> 7.3</td><td>VC</td><td>0.5</td></tr>\n",
       "\t<tr><th scope=row>4</th><td> 5.8</td><td>VC</td><td>0.5</td></tr>\n",
       "\t<tr><th scope=row>5</th><td> 6.4</td><td>VC</td><td>0.5</td></tr>\n",
       "\t<tr><th scope=row>6</th><td>10.0</td><td>VC</td><td>0.5</td></tr>\n",
       "</tbody>\n",
       "</table>\n"
      ],
      "text/latex": [
       "A data.frame: 6 × 3\n",
       "\\begin{tabular}{r|lll}\n",
       "  & len & supp & dose\\\\\n",
       "  & <dbl> & <fct> & <dbl>\\\\\n",
       "\\hline\n",
       "\t1 &  4.2 & VC & 0.5\\\\\n",
       "\t2 & 11.5 & VC & 0.5\\\\\n",
       "\t3 &  7.3 & VC & 0.5\\\\\n",
       "\t4 &  5.8 & VC & 0.5\\\\\n",
       "\t5 &  6.4 & VC & 0.5\\\\\n",
       "\t6 & 10.0 & VC & 0.5\\\\\n",
       "\\end{tabular}\n"
      ],
      "text/markdown": [
       "\n",
       "A data.frame: 6 × 3\n",
       "\n",
       "| <!--/--> | len &lt;dbl&gt; | supp &lt;fct&gt; | dose &lt;dbl&gt; |\n",
       "|---|---|---|---|\n",
       "| 1 |  4.2 | VC | 0.5 |\n",
       "| 2 | 11.5 | VC | 0.5 |\n",
       "| 3 |  7.3 | VC | 0.5 |\n",
       "| 4 |  5.8 | VC | 0.5 |\n",
       "| 5 |  6.4 | VC | 0.5 |\n",
       "| 6 | 10.0 | VC | 0.5 |\n",
       "\n"
      ],
      "text/plain": [
       "  len  supp dose\n",
       "1  4.2 VC   0.5 \n",
       "2 11.5 VC   0.5 \n",
       "3  7.3 VC   0.5 \n",
       "4  5.8 VC   0.5 \n",
       "5  6.4 VC   0.5 \n",
       "6 10.0 VC   0.5 "
      ]
     },
     "metadata": {},
     "output_type": "display_data"
    },
    {
     "name": "stderr",
     "output_type": "stream",
     "text": [
      "Updating HTML index of packages in '.Library'\n",
      "\n",
      "Making 'packages.html' ...\n",
      " done\n",
      "\n"
     ]
    }
   ],
   "source": [
    "data(\"ToothGrowth\")\n",
    "head(ToothGrowth)\n",
    "install.packages(\"dplyr\")"
   ]
  },
  {
   "cell_type": "code",
   "execution_count": 14,
   "id": "513a1013",
   "metadata": {},
   "outputs": [
    {
     "ename": "ERROR",
     "evalue": "Error in filter(ToothGrowth, dose == 0.5): object 'dose' not found\n",
     "output_type": "error",
     "traceback": [
      "Error in filter(ToothGrowth, dose == 0.5): object 'dose' not found\nTraceback:\n",
      "1. filter(ToothGrowth, dose == 0.5)"
     ]
    }
   ],
   "source": [
    "# atomic\n",
    "filtered_tg <- filter(ToothGrowth, dose == 0.5)\n",
    "View(filtered_tg)\n",
    "arrange(filtered_tg,len)"
   ]
  },
  {
   "cell_type": "code",
   "execution_count": 6,
   "id": "ccbbdd58",
   "metadata": {},
   "outputs": [
    {
     "ename": "ERROR",
     "evalue": "Error in arrange(filter(ToothGrowth, dose == 0.5), len): could not find function \"arrange\"\n",
     "output_type": "error",
     "traceback": [
      "Error in arrange(filter(ToothGrowth, dose == 0.5), len): could not find function \"arrange\"\nTraceback:\n"
     ]
    }
   ],
   "source": [
    "# nested\n",
    "arrange(filter(ToothGrowth, dose == 0.5),len)"
   ]
  },
  {
   "cell_type": "code",
   "execution_count": 7,
   "id": "b29c4e52",
   "metadata": {},
   "outputs": [
    {
     "ename": "ERROR",
     "evalue": "Error in ToothGrowth %>% filter(dose == 0.5) %>% arrange(len): could not find function \"%>%\"\n",
     "output_type": "error",
     "traceback": [
      "Error in ToothGrowth %>% filter(dose == 0.5) %>% arrange(len): could not find function \"%>%\"\nTraceback:\n"
     ]
    }
   ],
   "source": [
    "# using pipes\n",
    "filtered_toothgrowth <- ToothGrowth %>% \n",
    "  filter(dose==0.5) %>% \n",
    "  arrange(len)"
   ]
  },
  {
   "cell_type": "code",
   "execution_count": 8,
   "id": "7802ab69",
   "metadata": {},
   "outputs": [
    {
     "ename": "ERROR",
     "evalue": "Error in ToothGrowth %>% filter(dose == 0.5) %>% group_by(supp) %>% summarise(mean_lean = mean(len, : could not find function \"%>%\"\n",
     "output_type": "error",
     "traceback": [
      "Error in ToothGrowth %>% filter(dose == 0.5) %>% group_by(supp) %>% summarise(mean_lean = mean(len, : could not find function \"%>%\"\nTraceback:\n"
     ]
    }
   ],
   "source": [
    "# more complex example using average\n",
    "filtered_toothgrowth <- ToothGrowth %>% \n",
    "  filter(dose==0.5) %>% \n",
    "  group_by(supp) %>% \n",
    "  summarise(mean_lean = mean(len,na.rm = T),.group=\"drop\")"
   ]
  },
  {
   "cell_type": "code",
   "execution_count": 13,
   "id": "35f464df",
   "metadata": {},
   "outputs": [
    {
     "name": "stderr",
     "output_type": "stream",
     "text": [
      "\n",
      "Attaching package: ‘lubridate’\n",
      "\n",
      "\n",
      "The following objects are masked from ‘package:base’:\n",
      "\n",
      "    date, intersect, setdiff, union\n",
      "\n",
      "\n"
     ]
    },
    {
     "data": {
      "text/html": [
       "<time datetime=\"2019-04-10\">2019-04-10</time>"
      ],
      "text/latex": [
       "2019-04-10"
      ],
      "text/markdown": [
       "2019-04-10"
      ],
      "text/plain": [
       "[1] \"2019-04-10\""
      ]
     },
     "metadata": {},
     "output_type": "display_data"
    }
   ],
   "source": [
    "library(lubridate)\n",
    "mdy(\"April 10, 2019\")"
   ]
  },
  {
   "cell_type": "code",
   "execution_count": 11,
   "id": "b9ce4ca6",
   "metadata": {},
   "outputs": [],
   "source": []
  }
 ],
 "metadata": {
  "kernelspec": {
   "display_name": "R",
   "language": "R",
   "name": "ir"
  },
  "language_info": {
   "codemirror_mode": "r",
   "file_extension": ".r",
   "mimetype": "text/x-r-source",
   "name": "R",
   "pygments_lexer": "r",
   "version": "4.2.3"
  }
 },
 "nbformat": 4,
 "nbformat_minor": 5
}
