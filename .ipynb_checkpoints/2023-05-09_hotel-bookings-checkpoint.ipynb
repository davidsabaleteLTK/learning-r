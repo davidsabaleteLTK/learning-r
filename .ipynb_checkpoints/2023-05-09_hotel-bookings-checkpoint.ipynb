{
 "cells": [
  {
   "cell_type": "code",
   "execution_count": 9,
   "id": "3fe1ad47",
   "metadata": {},
   "outputs": [],
   "source": [
    "hotel_bookings <- read.csv(\"hotel_bookings.csv\")"
   ]
  },
  {
   "cell_type": "code",
   "execution_count": 10,
   "id": "2472d4ec",
   "metadata": {},
   "outputs": [
    {
     "data": {
      "text/html": [
       "<table class=\"dataframe\">\n",
       "<caption>A data.frame: 6 × 32</caption>\n",
       "<thead>\n",
       "\t<tr><th></th><th scope=col>hotel</th><th scope=col>is_canceled</th><th scope=col>lead_time</th><th scope=col>arrival_date_year</th><th scope=col>arrival_date_month</th><th scope=col>arrival_date_week_number</th><th scope=col>arrival_date_day_of_month</th><th scope=col>stays_in_weekend_nights</th><th scope=col>stays_in_week_nights</th><th scope=col>adults</th><th scope=col>⋯</th><th scope=col>deposit_type</th><th scope=col>agent</th><th scope=col>company</th><th scope=col>days_in_waiting_list</th><th scope=col>customer_type</th><th scope=col>adr</th><th scope=col>required_car_parking_spaces</th><th scope=col>total_of_special_requests</th><th scope=col>reservation_status</th><th scope=col>reservation_status_date</th></tr>\n",
       "\t<tr><th></th><th scope=col>&lt;chr&gt;</th><th scope=col>&lt;int&gt;</th><th scope=col>&lt;int&gt;</th><th scope=col>&lt;int&gt;</th><th scope=col>&lt;chr&gt;</th><th scope=col>&lt;int&gt;</th><th scope=col>&lt;int&gt;</th><th scope=col>&lt;int&gt;</th><th scope=col>&lt;int&gt;</th><th scope=col>&lt;int&gt;</th><th scope=col>⋯</th><th scope=col>&lt;chr&gt;</th><th scope=col>&lt;chr&gt;</th><th scope=col>&lt;chr&gt;</th><th scope=col>&lt;int&gt;</th><th scope=col>&lt;chr&gt;</th><th scope=col>&lt;dbl&gt;</th><th scope=col>&lt;int&gt;</th><th scope=col>&lt;int&gt;</th><th scope=col>&lt;chr&gt;</th><th scope=col>&lt;chr&gt;</th></tr>\n",
       "</thead>\n",
       "<tbody>\n",
       "\t<tr><th scope=row>1</th><td>Resort Hotel</td><td>0</td><td>342</td><td>2015</td><td>July</td><td>27</td><td>1</td><td>0</td><td>0</td><td>2</td><td>⋯</td><td>No Deposit</td><td>NULL</td><td>NULL</td><td>0</td><td>Transient</td><td> 0</td><td>0</td><td>0</td><td>Check-Out</td><td>2015-07-01</td></tr>\n",
       "\t<tr><th scope=row>2</th><td>Resort Hotel</td><td>0</td><td>737</td><td>2015</td><td>July</td><td>27</td><td>1</td><td>0</td><td>0</td><td>2</td><td>⋯</td><td>No Deposit</td><td>NULL</td><td>NULL</td><td>0</td><td>Transient</td><td> 0</td><td>0</td><td>0</td><td>Check-Out</td><td>2015-07-01</td></tr>\n",
       "\t<tr><th scope=row>3</th><td>Resort Hotel</td><td>0</td><td>  7</td><td>2015</td><td>July</td><td>27</td><td>1</td><td>0</td><td>1</td><td>1</td><td>⋯</td><td>No Deposit</td><td>NULL</td><td>NULL</td><td>0</td><td>Transient</td><td>75</td><td>0</td><td>0</td><td>Check-Out</td><td>2015-07-02</td></tr>\n",
       "\t<tr><th scope=row>4</th><td>Resort Hotel</td><td>0</td><td> 13</td><td>2015</td><td>July</td><td>27</td><td>1</td><td>0</td><td>1</td><td>1</td><td>⋯</td><td>No Deposit</td><td>304 </td><td>NULL</td><td>0</td><td>Transient</td><td>75</td><td>0</td><td>0</td><td>Check-Out</td><td>2015-07-02</td></tr>\n",
       "\t<tr><th scope=row>5</th><td>Resort Hotel</td><td>0</td><td> 14</td><td>2015</td><td>July</td><td>27</td><td>1</td><td>0</td><td>2</td><td>2</td><td>⋯</td><td>No Deposit</td><td>240 </td><td>NULL</td><td>0</td><td>Transient</td><td>98</td><td>0</td><td>1</td><td>Check-Out</td><td>2015-07-03</td></tr>\n",
       "\t<tr><th scope=row>6</th><td>Resort Hotel</td><td>0</td><td> 14</td><td>2015</td><td>July</td><td>27</td><td>1</td><td>0</td><td>2</td><td>2</td><td>⋯</td><td>No Deposit</td><td>240 </td><td>NULL</td><td>0</td><td>Transient</td><td>98</td><td>0</td><td>1</td><td>Check-Out</td><td>2015-07-03</td></tr>\n",
       "</tbody>\n",
       "</table>\n"
      ],
      "text/latex": [
       "A data.frame: 6 × 32\n",
       "\\begin{tabular}{r|lllllllllllllllllllll}\n",
       "  & hotel & is\\_canceled & lead\\_time & arrival\\_date\\_year & arrival\\_date\\_month & arrival\\_date\\_week\\_number & arrival\\_date\\_day\\_of\\_month & stays\\_in\\_weekend\\_nights & stays\\_in\\_week\\_nights & adults & ⋯ & deposit\\_type & agent & company & days\\_in\\_waiting\\_list & customer\\_type & adr & required\\_car\\_parking\\_spaces & total\\_of\\_special\\_requests & reservation\\_status & reservation\\_status\\_date\\\\\n",
       "  & <chr> & <int> & <int> & <int> & <chr> & <int> & <int> & <int> & <int> & <int> & ⋯ & <chr> & <chr> & <chr> & <int> & <chr> & <dbl> & <int> & <int> & <chr> & <chr>\\\\\n",
       "\\hline\n",
       "\t1 & Resort Hotel & 0 & 342 & 2015 & July & 27 & 1 & 0 & 0 & 2 & ⋯ & No Deposit & NULL & NULL & 0 & Transient &  0 & 0 & 0 & Check-Out & 2015-07-01\\\\\n",
       "\t2 & Resort Hotel & 0 & 737 & 2015 & July & 27 & 1 & 0 & 0 & 2 & ⋯ & No Deposit & NULL & NULL & 0 & Transient &  0 & 0 & 0 & Check-Out & 2015-07-01\\\\\n",
       "\t3 & Resort Hotel & 0 &   7 & 2015 & July & 27 & 1 & 0 & 1 & 1 & ⋯ & No Deposit & NULL & NULL & 0 & Transient & 75 & 0 & 0 & Check-Out & 2015-07-02\\\\\n",
       "\t4 & Resort Hotel & 0 &  13 & 2015 & July & 27 & 1 & 0 & 1 & 1 & ⋯ & No Deposit & 304  & NULL & 0 & Transient & 75 & 0 & 0 & Check-Out & 2015-07-02\\\\\n",
       "\t5 & Resort Hotel & 0 &  14 & 2015 & July & 27 & 1 & 0 & 2 & 2 & ⋯ & No Deposit & 240  & NULL & 0 & Transient & 98 & 0 & 1 & Check-Out & 2015-07-03\\\\\n",
       "\t6 & Resort Hotel & 0 &  14 & 2015 & July & 27 & 1 & 0 & 2 & 2 & ⋯ & No Deposit & 240  & NULL & 0 & Transient & 98 & 0 & 1 & Check-Out & 2015-07-03\\\\\n",
       "\\end{tabular}\n"
      ],
      "text/markdown": [
       "\n",
       "A data.frame: 6 × 32\n",
       "\n",
       "| <!--/--> | hotel &lt;chr&gt; | is_canceled &lt;int&gt; | lead_time &lt;int&gt; | arrival_date_year &lt;int&gt; | arrival_date_month &lt;chr&gt; | arrival_date_week_number &lt;int&gt; | arrival_date_day_of_month &lt;int&gt; | stays_in_weekend_nights &lt;int&gt; | stays_in_week_nights &lt;int&gt; | adults &lt;int&gt; | ⋯ ⋯ | deposit_type &lt;chr&gt; | agent &lt;chr&gt; | company &lt;chr&gt; | days_in_waiting_list &lt;int&gt; | customer_type &lt;chr&gt; | adr &lt;dbl&gt; | required_car_parking_spaces &lt;int&gt; | total_of_special_requests &lt;int&gt; | reservation_status &lt;chr&gt; | reservation_status_date &lt;chr&gt; |\n",
       "|---|---|---|---|---|---|---|---|---|---|---|---|---|---|---|---|---|---|---|---|---|---|\n",
       "| 1 | Resort Hotel | 0 | 342 | 2015 | July | 27 | 1 | 0 | 0 | 2 | ⋯ | No Deposit | NULL | NULL | 0 | Transient |  0 | 0 | 0 | Check-Out | 2015-07-01 |\n",
       "| 2 | Resort Hotel | 0 | 737 | 2015 | July | 27 | 1 | 0 | 0 | 2 | ⋯ | No Deposit | NULL | NULL | 0 | Transient |  0 | 0 | 0 | Check-Out | 2015-07-01 |\n",
       "| 3 | Resort Hotel | 0 |   7 | 2015 | July | 27 | 1 | 0 | 1 | 1 | ⋯ | No Deposit | NULL | NULL | 0 | Transient | 75 | 0 | 0 | Check-Out | 2015-07-02 |\n",
       "| 4 | Resort Hotel | 0 |  13 | 2015 | July | 27 | 1 | 0 | 1 | 1 | ⋯ | No Deposit | 304  | NULL | 0 | Transient | 75 | 0 | 0 | Check-Out | 2015-07-02 |\n",
       "| 5 | Resort Hotel | 0 |  14 | 2015 | July | 27 | 1 | 0 | 2 | 2 | ⋯ | No Deposit | 240  | NULL | 0 | Transient | 98 | 0 | 1 | Check-Out | 2015-07-03 |\n",
       "| 6 | Resort Hotel | 0 |  14 | 2015 | July | 27 | 1 | 0 | 2 | 2 | ⋯ | No Deposit | 240  | NULL | 0 | Transient | 98 | 0 | 1 | Check-Out | 2015-07-03 |\n",
       "\n"
      ],
      "text/plain": [
       "  hotel        is_canceled lead_time arrival_date_year arrival_date_month\n",
       "1 Resort Hotel 0           342       2015              July              \n",
       "2 Resort Hotel 0           737       2015              July              \n",
       "3 Resort Hotel 0             7       2015              July              \n",
       "4 Resort Hotel 0            13       2015              July              \n",
       "5 Resort Hotel 0            14       2015              July              \n",
       "6 Resort Hotel 0            14       2015              July              \n",
       "  arrival_date_week_number arrival_date_day_of_month stays_in_weekend_nights\n",
       "1 27                       1                         0                      \n",
       "2 27                       1                         0                      \n",
       "3 27                       1                         0                      \n",
       "4 27                       1                         0                      \n",
       "5 27                       1                         0                      \n",
       "6 27                       1                         0                      \n",
       "  stays_in_week_nights adults ⋯ deposit_type agent company days_in_waiting_list\n",
       "1 0                    2      ⋯ No Deposit   NULL  NULL    0                   \n",
       "2 0                    2      ⋯ No Deposit   NULL  NULL    0                   \n",
       "3 1                    1      ⋯ No Deposit   NULL  NULL    0                   \n",
       "4 1                    1      ⋯ No Deposit   304   NULL    0                   \n",
       "5 2                    2      ⋯ No Deposit   240   NULL    0                   \n",
       "6 2                    2      ⋯ No Deposit   240   NULL    0                   \n",
       "  customer_type adr required_car_parking_spaces total_of_special_requests\n",
       "1 Transient      0  0                           0                        \n",
       "2 Transient      0  0                           0                        \n",
       "3 Transient     75  0                           0                        \n",
       "4 Transient     75  0                           0                        \n",
       "5 Transient     98  0                           1                        \n",
       "6 Transient     98  0                           1                        \n",
       "  reservation_status reservation_status_date\n",
       "1 Check-Out          2015-07-01             \n",
       "2 Check-Out          2015-07-01             \n",
       "3 Check-Out          2015-07-02             \n",
       "4 Check-Out          2015-07-02             \n",
       "5 Check-Out          2015-07-03             \n",
       "6 Check-Out          2015-07-03             "
      ]
     },
     "metadata": {},
     "output_type": "display_data"
    }
   ],
   "source": [
    "head(hotel_bookings)"
   ]
  },
  {
   "cell_type": "code",
   "execution_count": 11,
   "id": "4f4b831a",
   "metadata": {
    "scrolled": false
   },
   "outputs": [
    {
     "data": {
      "text/html": [
       "<style>\n",
       ".list-inline {list-style: none; margin:0; padding: 0}\n",
       ".list-inline>li {display: inline-block}\n",
       ".list-inline>li:not(:last-child)::after {content: \"\\00b7\"; padding: 0 .5ex}\n",
       "</style>\n",
       "<ol class=list-inline><li>'hotel'</li><li>'is_canceled'</li><li>'lead_time'</li><li>'arrival_date_year'</li><li>'arrival_date_month'</li><li>'arrival_date_week_number'</li><li>'arrival_date_day_of_month'</li><li>'stays_in_weekend_nights'</li><li>'stays_in_week_nights'</li><li>'adults'</li><li>'children'</li><li>'babies'</li><li>'meal'</li><li>'country'</li><li>'market_segment'</li><li>'distribution_channel'</li><li>'is_repeated_guest'</li><li>'previous_cancellations'</li><li>'previous_bookings_not_canceled'</li><li>'reserved_room_type'</li><li>'assigned_room_type'</li><li>'booking_changes'</li><li>'deposit_type'</li><li>'agent'</li><li>'company'</li><li>'days_in_waiting_list'</li><li>'customer_type'</li><li>'adr'</li><li>'required_car_parking_spaces'</li><li>'total_of_special_requests'</li><li>'reservation_status'</li><li>'reservation_status_date'</li></ol>\n"
      ],
      "text/latex": [
       "\\begin{enumerate*}\n",
       "\\item 'hotel'\n",
       "\\item 'is\\_canceled'\n",
       "\\item 'lead\\_time'\n",
       "\\item 'arrival\\_date\\_year'\n",
       "\\item 'arrival\\_date\\_month'\n",
       "\\item 'arrival\\_date\\_week\\_number'\n",
       "\\item 'arrival\\_date\\_day\\_of\\_month'\n",
       "\\item 'stays\\_in\\_weekend\\_nights'\n",
       "\\item 'stays\\_in\\_week\\_nights'\n",
       "\\item 'adults'\n",
       "\\item 'children'\n",
       "\\item 'babies'\n",
       "\\item 'meal'\n",
       "\\item 'country'\n",
       "\\item 'market\\_segment'\n",
       "\\item 'distribution\\_channel'\n",
       "\\item 'is\\_repeated\\_guest'\n",
       "\\item 'previous\\_cancellations'\n",
       "\\item 'previous\\_bookings\\_not\\_canceled'\n",
       "\\item 'reserved\\_room\\_type'\n",
       "\\item 'assigned\\_room\\_type'\n",
       "\\item 'booking\\_changes'\n",
       "\\item 'deposit\\_type'\n",
       "\\item 'agent'\n",
       "\\item 'company'\n",
       "\\item 'days\\_in\\_waiting\\_list'\n",
       "\\item 'customer\\_type'\n",
       "\\item 'adr'\n",
       "\\item 'required\\_car\\_parking\\_spaces'\n",
       "\\item 'total\\_of\\_special\\_requests'\n",
       "\\item 'reservation\\_status'\n",
       "\\item 'reservation\\_status\\_date'\n",
       "\\end{enumerate*}\n"
      ],
      "text/markdown": [
       "1. 'hotel'\n",
       "2. 'is_canceled'\n",
       "3. 'lead_time'\n",
       "4. 'arrival_date_year'\n",
       "5. 'arrival_date_month'\n",
       "6. 'arrival_date_week_number'\n",
       "7. 'arrival_date_day_of_month'\n",
       "8. 'stays_in_weekend_nights'\n",
       "9. 'stays_in_week_nights'\n",
       "10. 'adults'\n",
       "11. 'children'\n",
       "12. 'babies'\n",
       "13. 'meal'\n",
       "14. 'country'\n",
       "15. 'market_segment'\n",
       "16. 'distribution_channel'\n",
       "17. 'is_repeated_guest'\n",
       "18. 'previous_cancellations'\n",
       "19. 'previous_bookings_not_canceled'\n",
       "20. 'reserved_room_type'\n",
       "21. 'assigned_room_type'\n",
       "22. 'booking_changes'\n",
       "23. 'deposit_type'\n",
       "24. 'agent'\n",
       "25. 'company'\n",
       "26. 'days_in_waiting_list'\n",
       "27. 'customer_type'\n",
       "28. 'adr'\n",
       "29. 'required_car_parking_spaces'\n",
       "30. 'total_of_special_requests'\n",
       "31. 'reservation_status'\n",
       "32. 'reservation_status_date'\n",
       "\n",
       "\n"
      ],
      "text/plain": [
       " [1] \"hotel\"                          \"is_canceled\"                   \n",
       " [3] \"lead_time\"                      \"arrival_date_year\"             \n",
       " [5] \"arrival_date_month\"             \"arrival_date_week_number\"      \n",
       " [7] \"arrival_date_day_of_month\"      \"stays_in_weekend_nights\"       \n",
       " [9] \"stays_in_week_nights\"           \"adults\"                        \n",
       "[11] \"children\"                       \"babies\"                        \n",
       "[13] \"meal\"                           \"country\"                       \n",
       "[15] \"market_segment\"                 \"distribution_channel\"          \n",
       "[17] \"is_repeated_guest\"              \"previous_cancellations\"        \n",
       "[19] \"previous_bookings_not_canceled\" \"reserved_room_type\"            \n",
       "[21] \"assigned_room_type\"             \"booking_changes\"               \n",
       "[23] \"deposit_type\"                   \"agent\"                         \n",
       "[25] \"company\"                        \"days_in_waiting_list\"          \n",
       "[27] \"customer_type\"                  \"adr\"                           \n",
       "[29] \"required_car_parking_spaces\"    \"total_of_special_requests\"     \n",
       "[31] \"reservation_status\"             \"reservation_status_date\"       "
      ]
     },
     "metadata": {},
     "output_type": "display_data"
    }
   ],
   "source": [
    "colnames(hotel_bookings)"
   ]
  },
  {
   "cell_type": "code",
   "execution_count": 16,
   "id": "2ce813c1",
   "metadata": {},
   "outputs": [
    {
     "name": "stderr",
     "output_type": "stream",
     "text": [
      "Updating HTML index of packages in '.Library'\n",
      "\n",
      "Making 'packages.html' ...\n",
      " done\n",
      "\n"
     ]
    }
   ],
   "source": [
    "install.packages('ggplot2')"
   ]
  },
  {
   "cell_type": "code",
   "execution_count": 17,
   "id": "6daca25b",
   "metadata": {},
   "outputs": [
    {
     "ename": "ERROR",
     "evalue": "Error: package or namespace load failed for ‘ggplot2’ in loadNamespace(i, c(lib.loc, .libPaths()), versionCheck = vI[[i]]):\n namespace ‘rlang’ 1.0.6 is already loaded, but >= 1.1.0 is required\n",
     "output_type": "error",
     "traceback": [
      "Error: package or namespace load failed for ‘ggplot2’ in loadNamespace(i, c(lib.loc, .libPaths()), versionCheck = vI[[i]]):\n namespace ‘rlang’ 1.0.6 is already loaded, but >= 1.1.0 is required\nTraceback:\n",
      "1. library(ggplot2)",
      "2. tryCatch({\n .     attr(package, \"LibPath\") <- which.lib.loc\n .     ns <- loadNamespace(package, lib.loc)\n .     env <- attachNamespace(ns, pos = pos, deps, exclude, include.only)\n . }, error = function(e) {\n .     P <- if (!is.null(cc <- conditionCall(e))) \n .         paste(\" in\", deparse(cc)[1L])\n .     else \"\"\n .     msg <- gettextf(\"package or namespace load failed for %s%s:\\n %s\", \n .         sQuote(package), P, conditionMessage(e))\n .     if (logical.return && !quietly) \n .         message(paste(\"Error:\", msg), domain = NA)\n .     else stop(msg, call. = FALSE, domain = NA)\n . })",
      "3. tryCatchList(expr, classes, parentenv, handlers)",
      "4. tryCatchOne(expr, names, parentenv, handlers[[1L]])",
      "5. value[[3L]](cond)",
      "6. stop(msg, call. = FALSE, domain = NA)"
     ]
    }
   ],
   "source": [
    "library(ggplot2)"
   ]
  },
  {
   "cell_type": "code",
   "execution_count": 15,
   "id": "e99f71f1",
   "metadata": {},
   "outputs": [
    {
     "ename": "ERROR",
     "evalue": "Error in ggplot(data = hotel_bookings): no se pudo encontrar la función \"ggplot\"\n",
     "output_type": "error",
     "traceback": [
      "Error in ggplot(data = hotel_bookings): no se pudo encontrar la función \"ggplot\"\nTraceback:\n"
     ]
    }
   ],
   "source": [
    "ggplot(data = hotel_bookings) +\n",
    "  geom_point(mapping = aes(x = lead_time, y = children))"
   ]
  }
 ],
 "metadata": {
  "kernelspec": {
   "display_name": "R",
   "language": "R",
   "name": "ir"
  },
  "language_info": {
   "codemirror_mode": "r",
   "file_extension": ".r",
   "mimetype": "text/x-r-source",
   "name": "R",
   "pygments_lexer": "r",
   "version": "4.2.2"
  }
 },
 "nbformat": 4,
 "nbformat_minor": 5
}
